{
 "cells": [
  {
   "cell_type": "code",
   "execution_count": 2,
   "metadata": {},
   "outputs": [],
   "source": [
    "import os\r\n",
    "from PIL import Image\r\n",
    "import matplotlib.pyplot as plt\r\n",
    "import numpy as np\r\n",
    "from sklearn import *\r\n",
    "import pandas as pd\r\n",
    "import csv"
   ]
  },
  {
   "cell_type": "code",
   "execution_count": 3,
   "metadata": {},
   "outputs": [
    {
     "name": "stdout",
     "output_type": "stream",
     "text": [
      "{'buildings': 0, 'forest': 1, 'glacier': 2, 'mountain': 3, 'sea': 4, 'street': 5}\n",
      "{0: 'buildings', 1: 'forest', 2: 'glacier', 3: 'mountain', 4: 'sea', 5: 'street'}\n"
     ]
    }
   ],
   "source": [
    "# load training data labels\r\n",
    "train_labels_info = pd.read_csv('train_labels.csv', header=0)  \r\n",
    "categories = list(np.unique(train_labels_info['label']))\r\n",
    "\r\n",
    "# endocing categories to numbers\r\n",
    "num2cat = dict(zip(range(len(categories)), categories))\r\n",
    "cat2num =dict(zip(categories,range(len(categories))))\r\n",
    "print(cat2num)\r\n",
    "print(num2cat)"
   ]
  },
  {
   "cell_type": "code",
   "execution_count": 4,
   "metadata": {},
   "outputs": [],
   "source": [
    "def write_csv_kaggle_sub(fname, ID, Y):\r\n",
    "    # fname = file name\r\n",
    "    # Y is a list/array with class entries\r\n",
    "    # ID is the image ID\r\n",
    "    tmp = [['ID', 'label']]\r\n",
    "    # add ID numbers for each Y\r\n",
    "    for (i,y) in enumerate(Y):\r\n",
    "        tmp2 = [ID[i], num2cat[y]]\r\n",
    "        tmp.append(tmp2)\r\n",
    "    # write CSV file\r\n",
    "    with open(fname, 'w',newline='') as f:\r\n",
    "        writer = csv.writer(f)\r\n",
    "        writer.writerows(tmp)"
   ]
  },
  {
   "cell_type": "code",
   "execution_count": 5,
   "metadata": {},
   "outputs": [
    {
     "name": "stdout",
     "output_type": "stream",
     "text": [
      "10500\n",
      "2200\n"
     ]
    }
   ],
   "source": [
    "train_feat_root = './res50_features/train_feat/'\r\n",
    "test_feat_root = './res50_features/test_feat/'\r\n",
    "\r\n",
    "train_feats = []\r\n",
    "test_feats = []\r\n",
    "\r\n",
    "train_labels = []\r\n",
    "test_img_id = []\r\n",
    "\r\n",
    "# load train features\r\n",
    "for feat in os.listdir(train_feat_root):\r\n",
    "    img_id = int(feat.split('_')[0])\r\n",
    "    train_feats.append(np.load(os.path.join(train_feat_root, feat)))\r\n",
    "\r\n",
    "    label = train_labels_info['label'][img_id]\r\n",
    "    train_labels.append(cat2num[label])\r\n",
    "\r\n",
    "# load test features and corresponding ID\r\n",
    "for feat in os.listdir(test_feat_root):\r\n",
    "    img_id = int(feat.split('_')[0])\r\n",
    "    test_img_id.append(img_id)\r\n",
    "    test_feats.append(np.load(os.path.join(test_feat_root, feat)))\r\n",
    "\r\n",
    "print(len(train_feats))\r\n",
    "print(len(test_feats))"
   ]
  },
  {
   "cell_type": "code",
   "execution_count": null,
   "metadata": {},
   "outputs": [],
   "source": [
    "# Splitting training set and validation set for offline evaluation\r\n",
    "trainX, valX, trainY, valY = model_selection.train_test_split(train_feats, train_labels, train_size=0.75, test_size=0.25, random_state=123)\r\n",
    "print(len(trainX))\r\n",
    "print(len(valX))"
   ]
  },
  {
   "cell_type": "markdown",
   "metadata": {},
   "source": [
    "# Investigation on classifiers"
   ]
  },
  {
   "cell_type": "code",
   "execution_count": 8,
   "metadata": {},
   "outputs": [
    {
     "name": "stdout",
     "output_type": "stream",
     "text": [
      "linear svm validation accuracy = 0.9135238095238095\n"
     ]
    }
   ],
   "source": [
    "# paramgrid = {'C': logspace(-1,5,20), 'gamma': logspace(-4,3,20) }\r\n",
    "# svmclf = model_selection.GridSearchCV(svm.SVC(kernel='linear'), paramgrid, cv=5, n_jobs=-1, verbose=True)\r\n",
    "svmclf = svm.SVC(kernel='linear')\r\n",
    "svmclf.fit(trainX, trainY)\r\n",
    "predY_svm = svmclf.predict(valX)\r\n",
    "acc_svm = metrics.accuracy_score(valY, predY_svm)\r\n",
    "print(\"linear svm validation accuracy =\", acc_svm)"
   ]
  },
  {
   "cell_type": "code",
   "execution_count": 11,
   "metadata": {},
   "outputs": [
    {
     "name": "stdout",
     "output_type": "stream",
     "text": [
      "rbf svm validation accuracy = 0.932952380952381\n"
     ]
    }
   ],
   "source": [
    "svmclf = svm.SVC(kernel='rbf')\r\n",
    "svmclf.fit(trainX, trainY)\r\n",
    "predY_svm = svmclf.predict(valX)\r\n",
    "acc_svm = metrics.accuracy_score(valY, predY_svm)\r\n",
    "print(\"rbf svm validation accuracy =\", acc_svm)"
   ]
  },
  {
   "cell_type": "code",
   "execution_count": 12,
   "metadata": {},
   "outputs": [],
   "source": [
    "# Generate submission files\r\n",
    "predY = svmclf.predict(test_feats)\r\n",
    "write_csv_kaggle_sub('naive_baseline.csv',  test_img_id, predY)"
   ]
  },
  {
   "cell_type": "markdown",
   "metadata": {},
   "source": [
    "# Dimensionality Reduction"
   ]
  },
  {
   "cell_type": "code",
   "execution_count": 14,
   "metadata": {},
   "outputs": [
    {
     "name": "stdout",
     "output_type": "stream",
     "text": [
      "PCA svm validation accuracy = 0.908952380952381\n"
     ]
    }
   ],
   "source": [
    "pca = decomposition.PCA(n_components=1024)\r\n",
    "trainW = pca.fit_transform(trainX)  # fit the training set\r\n",
    "valW  = pca.transform(valX)  # use the pca model to transform the test set\r\n",
    "svmclf  = svm.SVC(kernel='linear')\r\n",
    "svmclf.fit(trainW, trainY)\r\n",
    "predY_svm = svmclf.predict(valW)\r\n",
    "acc_svm = metrics.accuracy_score(valY, predY_svm)\r\n",
    "print(\"PCA svm validation accuracy =\", acc_svm)"
   ]
  },
  {
   "cell_type": "code",
   "execution_count": 17,
   "metadata": {},
   "outputs": [
    {
     "name": "stdout",
     "output_type": "stream",
     "text": [
      "Kernel PCA svm validation accuracy = 0.9314285714285714\n"
     ]
    }
   ],
   "source": [
    "pca = decomposition.KernelPCA(n_components=1024,kernel='rbf')\r\n",
    "trainW = pca.fit_transform(trainX)  # fit the training set\r\n",
    "valW  = pca.transform(valX)  # use the pca model to transform the test set\r\n",
    "svmclf  =svm.SVC(kernel='linear')\r\n",
    "svmclf.fit(trainW, trainY)\r\n",
    "predY_svm = svmclf.predict(valW)\r\n",
    "acc_svm = metrics.accuracy_score(valY, predY_svm)\r\n",
    "print(\"Kernel PCA svm validation accuracy =\", acc_svm)"
   ]
  },
  {
   "cell_type": "code",
   "execution_count": 19,
   "metadata": {},
   "outputs": [
    {
     "name": "stdout",
     "output_type": "stream",
     "text": [
      "1 : 0.6175238095238095\n",
      "2 : 0.8106666666666666\n",
      "4 : 0.864\n",
      "8 : 0.8986666666666666\n",
      "16 : 0.9100952380952381\n",
      "32 : 0.9192380952380952\n",
      "64 : 0.9215238095238095\n",
      "128 : 0.9241904761904762\n",
      "256 : 0.928\n",
      "512 : 0.9287619047619048\n",
      "1024 : 0.9314285714285714\n"
     ]
    },
    {
     "data": {
      "text/plain": "Text(0, 0.5, 'accuracy')"
     },
     "execution_count": 19,
     "metadata": {},
     "output_type": "execute_result"
    },
    {
     "data": {
      "image/png": "[encoded data removed]",
      "text/plain": "<Figure size 432x288 with 1 Axes>"
     },
     "metadata": {
      "needs_background": "light"
     },
     "output_type": "display_data"
    }
   ],
   "source": [
    "ns=[1,2,4,8,16,32,64,128,256,512,1024]\r\n",
    "\r\n",
    "# params = {'C': logspace(-6,3,15)}\r\n",
    "trainaccpca = []\r\n",
    "testaccpca = []\r\n",
    "for n in ns:\r\n",
    "    pca = decomposition.KernelPCA(n_components=n, kernel='rbf')\r\n",
    "    trainW = pca.fit_transform(trainX)  # fit the training set\r\n",
    "    testW  = pca.transform(valX)  # use the pca model to transform the test set\r\n",
    "    clf  =svm.SVC(kernel='linear')\r\n",
    "    clf.fit(trainW, trainY)\r\n",
    "    \r\n",
    "    # predict from the model\r\n",
    "    predYtrain = clf.predict(trainW)\r\n",
    "    predYtest  = clf.predict(testW)\r\n",
    "\r\n",
    "    # calculate accuracy\r\n",
    "    acc      = metrics.accuracy_score(trainY, predYtrain)\r\n",
    "    trainaccpca.append(acc)\r\n",
    "\r\n",
    "    # calculate accuracy\r\n",
    "    acc      = metrics.accuracy_score(valY, predYtest)\r\n",
    "    testaccpca.append(acc)\r\n",
    "    print(n, \":\",acc)\r\n",
    "\r\n",
    "plt.plot(ns, trainaccpca, 'bx-', label='train')\r\n",
    "plt.plot(ns, testaccpca, 'ro-', label='test')\r\n",
    "plt.title(\"kenel PCA + SVM\")\r\n",
    "plt.legend(loc=0)\r\n",
    "plt.grid(True); plt.xlabel('n components'); plt.ylabel('accuracy')   "
   ]
  },
  {
   "cell_type": "code",
   "execution_count": null,
   "metadata": {},
   "outputs": [],
   "source": []
  }
 ],
 "metadata": {
  "interpreter": {
   "hash": "b0291dae3f3753d9be93daa3086b416758fd0bf0e721c90dd4b06147e6372b63"
  },
  "kernelspec": {
   "display_name": "Python 3.6.8 64-bit",
   "name": "python368jvsc74a57bd0a2136d017e034ab9e07bf99caaf038b2779747873029d460ec8b1336a7375585"
  },
  "language_info": {
   "codemirror_mode": {
    "name": "ipython",
    "version": 3
   },
   "file_extension": ".py",
   "mimetype": "text/x-python",
   "name": "python",
   "nbconvert_exporter": "python",
   "pygments_lexer": "ipython3",
   "version": "3.6.8"
  },
  "orig_nbformat": 2
 },
 "nbformat": 4,
 "nbformat_minor": 2
}